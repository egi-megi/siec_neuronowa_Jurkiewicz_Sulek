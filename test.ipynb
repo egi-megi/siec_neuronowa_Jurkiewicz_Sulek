{
 "cells": [
  {
   "cell_type": "code",
   "execution_count": 3,
   "metadata": {
    "collapsed": true
   },
   "outputs": [
    {
     "name": "stdout",
     "output_type": "stream",
     "text": [
      "4\n"
     ]
    }
   ],
   "source": [
    "print(2+2)"
   ]
  },
  {
   "cell_type": "code",
   "execution_count": 2,
   "outputs": [
    {
     "name": "stderr",
     "output_type": "stream",
     "text": [
      "Matplotlib is building the font cache; this may take a moment.\n"
     ]
    }
   ],
   "source": [
    "import matplotlib.pyplot as plt\n",
    "import numpy as np\n",
    "\n"
   ],
   "metadata": {
    "collapsed": false,
    "pycharm": {
     "name": "#%%\n"
    }
   }
  },
  {
   "cell_type": "code",
   "execution_count": 123,
   "outputs": [
    {
     "data": {
      "text/plain": "-351.56"
     },
     "execution_count": 123,
     "metadata": {},
     "output_type": "execute_result"
    },
    {
     "data": {
      "text/plain": "<Figure size 432x288 with 1 Axes>",
      "image/png": "[encoded data removed]"
     },
     "metadata": {
      "needs_background": "light"
     },
     "output_type": "display_data"
    }
   ],
   "source": [
    "t1 = np.arange(-15.0, 15.0, 0.1)\n",
    "t2 = np.arange(-5.0, 5.0, 0.02)\n",
    "def f(t):\n",
    "    return 0.04 * np.power(t,4) - 7 * np.power(t, 2) + 9 * t + 34\n",
    "        #0.5*np.exp(-t) + np.cos(np.power(t, 0.5)) + 0.05 * np.exp(np.power(np.abs(t), 0.5)) +  + 14\n",
    "\n",
    "\n",
    "\n",
    "plt.figure()\n",
    "plt.subplot(212)\n",
    "plt.plot(t1, f(t1))\n",
    "# plt.plot(t1, f(t1), 'bo', t2, f(t2), 'k')\n",
    "\n",
    "#plt.subplot(212)\n",
    "#plt.plot(t2, np.cos(2*np.pi*t2), 'r--')\n",
    "#plt.show()\n",
    "f(-9.0)\n"
   ],
   "metadata": {
    "collapsed": false,
    "pycharm": {
     "name": "#%%\n"
    }
   }
  }
 ],
 "metadata": {
  "kernelspec": {
   "display_name": "Python 3",
   "language": "python",
   "name": "python3"
  },
  "language_info": {
   "codemirror_mode": {
    "name": "ipython",
    "version": 2
   },
   "file_extension": ".py",
   "mimetype": "text/x-python",
   "name": "python",
   "nbconvert_exporter": "python",
   "pygments_lexer": "ipython2",
   "version": "2.7.6"
  }
 },
 "nbformat": 4,
 "nbformat_minor": 0
}